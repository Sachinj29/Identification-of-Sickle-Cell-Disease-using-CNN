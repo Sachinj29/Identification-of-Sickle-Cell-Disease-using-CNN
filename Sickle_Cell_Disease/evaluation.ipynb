{
 "cells": [
  {
   "cell_type": "code",
   "execution_count": 2,
   "metadata": {},
   "outputs": [
    {
     "name": "stdout",
     "output_type": "stream",
     "text": [
      "1/1 [==============================] - 0s 386ms/step\n",
      "              precision    recall  f1-score   support\n",
      "\n",
      "           0       1.00      1.00      1.00         8\n",
      "           1       1.00      1.00      1.00         3\n",
      "           2       1.00      1.00      1.00         1\n",
      "\n",
      "    accuracy                           1.00        12\n",
      "   macro avg       1.00      1.00      1.00        12\n",
      "weighted avg       1.00      1.00      1.00        12\n",
      "\n"
     ]
    }
   ],
   "source": [
    "from sklearn.metrics import classification_report\n",
    "import numpy as np\n",
    "from keras.models import load_model\n",
    "\n",
    "# Load the data\n",
    "data = np.load('train_val_data.npz')\n",
    "X_train = data['X_train']\n",
    "X_val = data['X_val']\n",
    "y_train = data['y_train']\n",
    "y_val = data['y_val']\n",
    "\n",
    "# Load the model\n",
    "anemia_detection_model = load_model('anemia_detection_model.h5')\n",
    "\n",
    "# Assuming you have your test data and labels stored in X_test and y_test\n",
    "# Make predictions on the test data\n",
    "y_pred = np.argmax(anemia_detection_model.predict(X_val), axis=1)\n",
    "\n",
    "# Convert y_test to categorical if it's not already\n",
    "# For example, if y_test is one-hot encoded, you can do:\n",
    "# y_test = np.argmax(y_test, axis=1)\n",
    "\n",
    "# Compute classification report\n",
    "report = classification_report(y_val, y_pred)\n",
    "\n",
    "print(report)\n"
   ]
  }
 ],
 "metadata": {
  "kernelspec": {
   "display_name": "Project",
   "language": "python",
   "name": "python3"
  },
  "language_info": {
   "codemirror_mode": {
    "name": "ipython",
    "version": 3
   },
   "file_extension": ".py",
   "mimetype": "text/x-python",
   "name": "python",
   "nbconvert_exporter": "python",
   "pygments_lexer": "ipython3",
   "version": "3.9.18"
  }
 },
 "nbformat": 4,
 "nbformat_minor": 2
}
